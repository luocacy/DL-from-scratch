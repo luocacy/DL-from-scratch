{
 "cells": [
  {
   "cell_type": "markdown",
   "metadata": {},
   "source": [
    "# 损失函数"
   ]
  },
  {
   "cell_type": "markdown",
   "metadata": {},
   "source": [
    "#### 1. 均方误差"
   ]
  },
  {
   "cell_type": "code",
   "execution_count": 1,
   "metadata": {},
   "outputs": [],
   "source": [
    "import sys, os\n",
    "sys.path.append(os.pardir)\n",
    "import numpy as np\n",
    "from dataset.mnist import load_mnist"
   ]
  },
  {
   "cell_type": "code",
   "execution_count": 2,
   "metadata": {},
   "outputs": [],
   "source": [
    "def mean_squared_error(y, t):\n",
    "    return 0.5 * np.sum((y-t)**2)"
   ]
  },
  {
   "cell_type": "code",
   "execution_count": 3,
   "metadata": {},
   "outputs": [
    {
     "data": {
      "text/plain": [
       "0.09750000000000003"
      ]
     },
     "execution_count": 3,
     "metadata": {},
     "output_type": "execute_result"
    }
   ],
   "source": [
    "t = [0, 0, 1, 0, 0, 0, 0, 0, 0, 0]    #2\n",
    "y = [0.1, 0.05, 0.6, 0.0, 0.05, 0.1, 0.0, 0.1, 0.0, 0.0]    #2\n",
    "mean_squared_error(np.array(y), np.array(t))    #正确，误差较小"
   ]
  },
  {
   "cell_type": "code",
   "execution_count": 4,
   "metadata": {},
   "outputs": [
    {
     "data": {
      "text/plain": [
       "0.5975"
      ]
     },
     "execution_count": 4,
     "metadata": {},
     "output_type": "execute_result"
    }
   ],
   "source": [
    "y = [0.1, 0.05, 0.1, 0.0, 0.05, 0.1, 0.0, 0.6, 0.0, 0.0]    #7\n",
    "mean_squared_error(np.array(y), np.array(t))    #错误，误差较大"
   ]
  },
  {
   "cell_type": "markdown",
   "metadata": {},
   "source": [
    "#### 2. 交叉熵误差"
   ]
  },
  {
   "cell_type": "code",
   "execution_count": 5,
   "metadata": {},
   "outputs": [],
   "source": [
    "def cross_entropy_error01(y, t):\n",
    "    delta = 1e-7    #添加一个微小值以防止负无限大的发生\n",
    "    return -np.sum(t * np.log(y+delta))"
   ]
  },
  {
   "cell_type": "code",
   "execution_count": 6,
   "metadata": {},
   "outputs": [
    {
     "data": {
      "text/plain": [
       "0.510825457099338"
      ]
     },
     "execution_count": 6,
     "metadata": {},
     "output_type": "execute_result"
    }
   ],
   "source": [
    "y = [0.1, 0.05, 0.6, 0.0, 0.05, 0.1, 0.0, 0.1, 0.0, 0.0]    \n",
    "cross_entropy_error01(np.array(y), np.array(t))"
   ]
  },
  {
   "cell_type": "code",
   "execution_count": 7,
   "metadata": {},
   "outputs": [
    {
     "data": {
      "text/plain": [
       "2.302584092994546"
      ]
     },
     "execution_count": 7,
     "metadata": {},
     "output_type": "execute_result"
    }
   ],
   "source": [
    "y = [0.1, 0.05, 0.1, 0.0, 0.05, 0.1, 0.0, 0.6, 0.0, 0.0]    \n",
    "cross_entropy_error01(np.array(y), np.array(t))"
   ]
  },
  {
   "cell_type": "markdown",
   "metadata": {},
   "source": [
    "#### 3. mini-batch学习"
   ]
  },
  {
   "cell_type": "code",
   "execution_count": 8,
   "metadata": {},
   "outputs": [],
   "source": [
    "#读入MNIST数据集\n",
    "(x_train, t_train), (x_test, t_test) = load_mnist(normalize = True, one_hot_label = True)"
   ]
  },
  {
   "cell_type": "code",
   "execution_count": 9,
   "metadata": {},
   "outputs": [],
   "source": [
    "#随即抽取10笔数据\n",
    "train_size = x_train.shape[0]\n",
    "batch_size = 10\n",
    "batch_mask = np.random.choice(train_size, batch_size)\n",
    "x_batch = x_train[batch_mask]\n",
    "t_batch = t_train[batch_mask]"
   ]
  },
  {
   "cell_type": "code",
   "execution_count": 10,
   "metadata": {},
   "outputs": [
    {
     "data": {
      "text/plain": [
       "array([  145, 52972, 57369, 35895, 11064, 56569, 48651, 54176, 10214,\n",
       "       33068])"
      ]
     },
     "execution_count": 10,
     "metadata": {},
     "output_type": "execute_result"
    }
   ],
   "source": [
    "np.random.choice(60000, 10)"
   ]
  },
  {
   "cell_type": "markdown",
   "metadata": {},
   "source": [
    "#### 4. mini-batch版交叉熵误差"
   ]
  },
  {
   "cell_type": "code",
   "execution_count": 11,
   "metadata": {},
   "outputs": [],
   "source": [
    "#可同时处理单个数据和批量数据(标签为one-hot表示)\n",
    "def cross_entropy_error02(y, t):\n",
    "    if y.ndim == 1:\n",
    "        y = y.reshape(1, y.size)\n",
    "        t = t.reshape(1, t.size)\n",
    "        \n",
    "    batch_size = y.shape[0]\n",
    "    return - np.sum(t * np.log(y + 1e-7)) / batch_size   "
   ]
  },
  {
   "cell_type": "code",
   "execution_count": 12,
   "metadata": {},
   "outputs": [],
   "source": [
    "# 如何验证"
   ]
  },
  {
   "cell_type": "code",
   "execution_count": 13,
   "metadata": {},
   "outputs": [],
   "source": [
    "#标签为非one-hot表示\n",
    "def cross_entropy_error03(y, t):\n",
    "    if y.ndim == 1:\n",
    "        y = y.reshape(1, y.size)\n",
    "        t = t.reshape(1, t.size)\n",
    "        \n",
    "    batch_size = y.shape[0]\n",
    "    return - np.sum(np.log(y[np.range(batch_size), t] + 1e-7)) / batch_size    #****"
   ]
  },
  {
   "cell_type": "markdown",
   "metadata": {},
   "source": [
    "# 数值微分"
   ]
  },
  {
   "cell_type": "markdown",
   "metadata": {},
   "source": [
    "#### 1.数值微分"
   ]
  },
  {
   "cell_type": "code",
   "execution_count": 14,
   "metadata": {},
   "outputs": [],
   "source": [
    "#函数：y = 0.01x**2 + 0.1x\n",
    "def function_1(x):\n",
    "    return 0.01*x**2 + 0.1*x"
   ]
  },
  {
   "cell_type": "code",
   "execution_count": 15,
   "metadata": {},
   "outputs": [],
   "source": [
    "#求导\n",
    "def numerical_diff(f, x):\n",
    "    h = 1e-4\n",
    "    return (f(x+h) - f(x-h)) / (2*h)"
   ]
  },
  {
   "cell_type": "code",
   "execution_count": 16,
   "metadata": {},
   "outputs": [],
   "source": [
    "def tangent_line(f, x):\n",
    "    d = numerical_diff(f, x)\n",
    "    print(d)\n",
    "    y = f(x) - d*x\n",
    "    return lambda t: d*t + y"
   ]
  },
  {
   "cell_type": "code",
   "execution_count": 17,
   "metadata": {},
   "outputs": [],
   "source": [
    "import matplotlib.pylab as plt"
   ]
  },
  {
   "cell_type": "code",
   "execution_count": 18,
   "metadata": {},
   "outputs": [
    {
     "name": "stdout",
     "output_type": "stream",
     "text": [
      "0.1999999999990898\n"
     ]
    },
    {
     "data": {
      "image/png": "[encoded data removed]",
      "text/plain": [
       "<Figure size 432x288 with 1 Axes>"
      ]
     },
     "metadata": {
      "needs_background": "light"
     },
     "output_type": "display_data"
    }
   ],
   "source": [
    "x = np.arange(0.0, 20.0, 0.1)\n",
    "y = function_1(x)\n",
    "\n",
    "tf = tangent_line(function_1, 5)\n",
    "y2 = tf(x)\n",
    "\n",
    "plt.xlabel('x')\n",
    "plt.ylabel('f(x)')\n",
    "plt.plot(x, y)\n",
    "plt.plot(x, y2)\n",
    "plt.show()"
   ]
  },
  {
   "cell_type": "code",
   "execution_count": 19,
   "metadata": {},
   "outputs": [
    {
     "data": {
      "text/plain": [
       "0.1999999999990898"
      ]
     },
     "execution_count": 19,
     "metadata": {},
     "output_type": "execute_result"
    }
   ],
   "source": [
    "numerical_diff(function_1, 5)"
   ]
  },
  {
   "cell_type": "code",
   "execution_count": 20,
   "metadata": {},
   "outputs": [
    {
     "data": {
      "text/plain": [
       "0.2999999999986347"
      ]
     },
     "execution_count": 20,
     "metadata": {},
     "output_type": "execute_result"
    }
   ],
   "source": [
    "numerical_diff(function_1, 10)"
   ]
  },
  {
   "cell_type": "markdown",
   "metadata": {},
   "source": [
    "#### 2.梯度"
   ]
  },
  {
   "cell_type": "code",
   "execution_count": 21,
   "metadata": {},
   "outputs": [],
   "source": [
    "#function_2: y = x0**2 + x1**2\n",
    "def function_2(x):\n",
    "    return x[0]**2 + x[1]**2"
   ]
  },
  {
   "cell_type": "code",
   "execution_count": 22,
   "metadata": {},
   "outputs": [],
   "source": [
    "#?\n",
    "def function_3(x):\n",
    "    if x.ndim == 1:\n",
    "        return np.sum(x**2)\n",
    "    else:\n",
    "        return np.sum(x**2, axis=1)"
   ]
  },
  {
   "cell_type": "code",
   "execution_count": 23,
   "metadata": {},
   "outputs": [],
   "source": [
    "#梯度的实现\n",
    "def numerical_gradient_no_batch(f, x):\n",
    "    h = 1e-4\n",
    "    grad = np.zeros_like(x)           #生成与x形状相同的数组         \n",
    "    for idx in range(x.size):\n",
    "        tmp_val = x[idx] \n",
    "        \n",
    "        #f(x+h)\n",
    "        x[idx] = float(tmp_val) + h\n",
    "        fxh1 = f(x)\n",
    "                         \n",
    "        #f(x-h)\n",
    "        x[idx] = float(tmp_val) - h\n",
    "        fxh2 = f(x)\n",
    "                         \n",
    "        grad[idx] = (fxh1 - fxh2) / (2*h)\n",
    "        x[idx] = tmp_val    #还原值\n",
    "                         \n",
    "    return grad"
   ]
  },
  {
   "cell_type": "code",
   "execution_count": 24,
   "metadata": {},
   "outputs": [
    {
     "data": {
      "text/plain": [
       "array([6., 8.])"
      ]
     },
     "execution_count": 24,
     "metadata": {},
     "output_type": "execute_result"
    }
   ],
   "source": [
    "numerical_gradient_no_batch(function_2, np.array([3.0, 4.0]))"
   ]
  },
  {
   "cell_type": "code",
   "execution_count": 25,
   "metadata": {},
   "outputs": [],
   "source": [
    "def numerical_gradient(f, X):\n",
    "    if X.ndim == 1:\n",
    "        return numerical_gradient_no_batch(f, X)\n",
    "    else:\n",
    "        grad = np.zeros_like(X)\n",
    "        \n",
    "        for idx, x in enumerate(X):\n",
    "            grad[idx] = numerical_gradient_no_batch(f, x)\n",
    "        \n",
    "        return grad"
   ]
  },
  {
   "cell_type": "code",
   "execution_count": 26,
   "metadata": {},
   "outputs": [],
   "source": [
    "def function_2(x):\n",
    "    if x.ndim == 1:\n",
    "        return np.sum(x**2)\n",
    "    else:\n",
    "        return np.sum(x**2, axis=1)"
   ]
  },
  {
   "cell_type": "code",
   "execution_count": 27,
   "metadata": {},
   "outputs": [],
   "source": [
    "def tangent_line(f, x):\n",
    "    d = numerical_gradient(f, x)\n",
    "    print(d)\n",
    "    y = f(x) - d*x\n",
    "    return lambda t: d*t + y"
   ]
  },
  {
   "cell_type": "code",
   "execution_count": 28,
   "metadata": {},
   "outputs": [
    {
     "data": {
      "image/png": "[encoded data removed]",
      "text/plain": [
       "<Figure size 432x288 with 1 Axes>"
      ]
     },
     "metadata": {
      "needs_background": "light"
     },
     "output_type": "display_data"
    }
   ],
   "source": [
    "    x0 = np.arange(-2, 2.5, 0.25)\n",
    "    x1 = np.arange(-2, 2.5, 0.25)\n",
    "    X, Y = np.meshgrid(x0, x1)\n",
    "    \n",
    "    X = X.flatten()\n",
    "    Y = Y.flatten()\n",
    "    \n",
    "    grad = numerical_gradient(function_2, np.array([X, Y]) )\n",
    "    \n",
    "    plt.figure()\n",
    "    plt.quiver(X, Y, -grad[0], -grad[1],  angles=\"xy\",color=\"#666666\")#,headwidth=10,scale=40,color=\"#444444\")\n",
    "    plt.xlim([-2, 2])\n",
    "    plt.ylim([-2, 2])\n",
    "    plt.xlabel('x0')\n",
    "    plt.ylabel('x1')\n",
    "    plt.grid()\n",
    "    plt.draw()\n",
    "    plt.show()"
   ]
  },
  {
   "cell_type": "markdown",
   "metadata": {},
   "source": [
    "#### 3.梯度法"
   ]
  },
  {
   "cell_type": "code",
   "execution_count": 29,
   "metadata": {},
   "outputs": [],
   "source": [
    "#Python实现梯度下降算法\n",
    "def gradient_descent(f, init_x, lr=0.01, step_num=100):\n",
    "    x = init_x\n",
    "    x_history = []\n",
    "    \n",
    "    for i in range(step_num):\n",
    "        x_history.append(x.copy())\n",
    "        \n",
    "        grad = numerical_gradient(f, x)\n",
    "        x -= lr*grad\n",
    "        \n",
    "    return x, np.array(x_history)"
   ]
  },
  {
   "cell_type": "code",
   "execution_count": 30,
   "metadata": {},
   "outputs": [],
   "source": [
    "def function_2(x):\n",
    "    return x[0]**2 + x[1]**2"
   ]
  },
  {
   "cell_type": "code",
   "execution_count": 31,
   "metadata": {},
   "outputs": [],
   "source": [
    "init_x = np.array([-3.0, 4.0])"
   ]
  },
  {
   "cell_type": "code",
   "execution_count": 32,
   "metadata": {},
   "outputs": [],
   "source": [
    "lr = 0.1\n",
    "step_num = 20\n",
    "x, x_history = gradient_descent(function_2, init_x, lr=lr, step_num=step_num)"
   ]
  },
  {
   "cell_type": "code",
   "execution_count": 33,
   "metadata": {},
   "outputs": [
    {
     "data": {
      "image/png": "[encoded data removed]",
      "text/plain": [
       "<Figure size 432x288 with 1 Axes>"
      ]
     },
     "metadata": {
      "needs_background": "light"
     },
     "output_type": "display_data"
    }
   ],
   "source": [
    "plt.plot( [-5, 5], [0,0], '--b')\n",
    "plt.plot( [0,0], [-5, 5], '--b')\n",
    "plt.plot(x_history[:,0], x_history[:,1], 'o')\n",
    "plt.xlim(-3.5, 3.5)\n",
    "plt.ylim(-4.5, 4.5)\n",
    "plt.xlabel(\"X0\")\n",
    "plt.ylabel(\"X1\")\n",
    "plt.show()"
   ]
  },
  {
   "cell_type": "code",
   "execution_count": 34,
   "metadata": {},
   "outputs": [],
   "source": [
    "#简单神经网络求梯度\n",
    "from common.functions import softmax, cross_entropy_error\n",
    "from common.gradient import numerical_gradient"
   ]
  },
  {
   "cell_type": "code",
   "execution_count": 35,
   "metadata": {},
   "outputs": [],
   "source": [
    "class simpleNet:\n",
    "    def __init__(self):\n",
    "        self.W = np.random.randn(2,3)\n",
    "\n",
    "    def predict(self, x):\n",
    "        return np.dot(x, self.W)\n",
    "\n",
    "    def loss(self, x, t):\n",
    "        z = self.predict(x)\n",
    "        y = softmax(z)\n",
    "        loss = cross_entropy_error(y, t)\n",
    "\n",
    "        return loss"
   ]
  },
  {
   "cell_type": "code",
   "execution_count": 36,
   "metadata": {},
   "outputs": [],
   "source": [
    "x = np.array([0.6, 0.9])\n",
    "t = np.array([0, 0, 1])\n",
    "\n",
    "net = simpleNet()"
   ]
  },
  {
   "cell_type": "code",
   "execution_count": 37,
   "metadata": {},
   "outputs": [
    {
     "name": "stdout",
     "output_type": "stream",
     "text": [
      "[[ 1.0143133   0.0140133  -2.24885587]\n",
      " [-1.29594056  0.39911212 -0.5498061 ]]\n"
     ]
    }
   ],
   "source": [
    "print(net.W)"
   ]
  },
  {
   "cell_type": "code",
   "execution_count": 38,
   "metadata": {},
   "outputs": [
    {
     "name": "stdout",
     "output_type": "stream",
     "text": [
      "[-0.55775852  0.36760889 -1.84413902]\n"
     ]
    }
   ],
   "source": [
    "p = net.predict(x)\n",
    "print(p)"
   ]
  },
  {
   "cell_type": "code",
   "execution_count": 39,
   "metadata": {},
   "outputs": [
    {
     "data": {
      "text/plain": [
       "1"
      ]
     },
     "execution_count": 39,
     "metadata": {},
     "output_type": "execute_result"
    }
   ],
   "source": [
    "np.argmax(p)    #最大值的索引"
   ]
  },
  {
   "cell_type": "code",
   "execution_count": 40,
   "metadata": {},
   "outputs": [
    {
     "data": {
      "text/plain": [
       "2.62113381909916"
      ]
     },
     "execution_count": 40,
     "metadata": {},
     "output_type": "execute_result"
    }
   ],
   "source": [
    "net.loss(x, t)"
   ]
  },
  {
   "cell_type": "code",
   "execution_count": 41,
   "metadata": {},
   "outputs": [
    {
     "name": "stdout",
     "output_type": "stream",
     "text": [
      "[[ 0.15793342  0.39843365 -0.55636708]\n",
      " [ 0.23690014  0.59765048 -0.83455061]]\n"
     ]
    }
   ],
   "source": [
    "#写法一\n",
    "def f(W):\n",
    "    return net.loss(x, t)\n",
    "\n",
    "dW = numerical_gradient(f, net.W)\n",
    "print(dW)"
   ]
  },
  {
   "cell_type": "code",
   "execution_count": 42,
   "metadata": {},
   "outputs": [
    {
     "name": "stdout",
     "output_type": "stream",
     "text": [
      "[[ 0.15793342  0.39843365 -0.55636708]\n",
      " [ 0.23690014  0.59765048 -0.83455061]]\n"
     ]
    }
   ],
   "source": [
    "#写法二:推荐\n",
    "f = lambda w: net.loss(x, t)\n",
    "\n",
    "dW = numerical_gradient(f, net.W)\n",
    "print(dW)"
   ]
  },
  {
   "cell_type": "markdown",
   "metadata": {},
   "source": [
    "# 学习算法的实现"
   ]
  },
  {
   "cell_type": "markdown",
   "metadata": {},
   "source": [
    "#### 1.两层神经网络的实现"
   ]
  },
  {
   "cell_type": "code",
   "execution_count": 43,
   "metadata": {},
   "outputs": [],
   "source": [
    "from common.functions import *"
   ]
  },
  {
   "cell_type": "code",
   "execution_count": 44,
   "metadata": {},
   "outputs": [],
   "source": [
    "class TwoLayerNet:\n",
    "\n",
    "    def __init__(self, input_size, hidden_size, output_size, weight_init_std=0.01):\n",
    "        # 初始化权重\n",
    "        self.params = {}\n",
    "        self.params['W1'] = weight_init_std * np.random.randn(input_size, hidden_size)\n",
    "        self.params['b1'] = np.zeros(hidden_size)\n",
    "        self.params['W2'] = weight_init_std * np.random.randn(hidden_size, output_size)\n",
    "        self.params['b2'] = np.zeros(output_size)\n",
    "\n",
    "    def predict(self, x):\n",
    "        W1, W2 = self.params['W1'], self.params['W2']\n",
    "        b1, b2 = self.params['b1'], self.params['b2']\n",
    "    \n",
    "        a1 = np.dot(x, W1) + b1\n",
    "        z1 = sigmoid(a1)\n",
    "        a2 = np.dot(z1, W2) + b2\n",
    "        y = softmax(a2)\n",
    "        \n",
    "        return y\n",
    "        \n",
    "    # x:输入数据, t:监督数据\n",
    "    def loss(self, x, t):\n",
    "        y = self.predict(x)\n",
    "        \n",
    "        return cross_entropy_error(y, t)\n",
    "    \n",
    "    def accuracy(self, x, t):\n",
    "        y = self.predict(x)\n",
    "        y = np.argmax(y, axis=1)\n",
    "        t = np.argmax(t, axis=1)\n",
    "        \n",
    "        accuracy = np.sum(y == t) / float(x.shape[0])\n",
    "        return accuracy\n",
    "        \n",
    "    # x:输入数据, t:监督数据\n",
    "    def numerical_gradient(self, x, t):\n",
    "        loss_W = lambda W: self.loss(x, t)\n",
    "        \n",
    "        grads = {}\n",
    "        grads['W1'] = numerical_gradient(loss_W, self.params['W1'])\n",
    "        grads['b1'] = numerical_gradient(loss_W, self.params['b1'])\n",
    "        grads['W2'] = numerical_gradient(loss_W, self.params['W2'])\n",
    "        grads['b2'] = numerical_gradient(loss_W, self.params['b2'])\n",
    "        \n",
    "        return grads\n",
    "        \n",
    "    def gradient(self, x, t):\n",
    "        W1, W2 = self.params['W1'], self.params['W2']\n",
    "        b1, b2 = self.params['b1'], self.params['b2']\n",
    "        grads = {}\n",
    "        \n",
    "        batch_num = x.shape[0]\n",
    "        \n",
    "        # forward\n",
    "        a1 = np.dot(x, W1) + b1\n",
    "        z1 = sigmoid(a1)\n",
    "        a2 = np.dot(z1, W2) + b2\n",
    "        y = softmax(a2)\n",
    "        \n",
    "        # backward\n",
    "        dy = (y - t) / batch_num\n",
    "        grads['W2'] = np.dot(z1.T, dy)\n",
    "        grads['b2'] = np.sum(dy, axis=0)\n",
    "        \n",
    "        da1 = np.dot(dy, W2.T)\n",
    "        dz1 = sigmoid_grad(a1) * da1\n",
    "        grads['W1'] = np.dot(x.T, dz1)\n",
    "        grads['b1'] = np.sum(dz1, axis=0)\n",
    "\n",
    "        return grads"
   ]
  },
  {
   "cell_type": "code",
   "execution_count": 45,
   "metadata": {},
   "outputs": [],
   "source": [
    "net = TwoLayerNet(input_size=784, hidden_size=100, output_size=10)"
   ]
  },
  {
   "cell_type": "code",
   "execution_count": 46,
   "metadata": {},
   "outputs": [
    {
     "data": {
      "text/plain": [
       "(784, 100)"
      ]
     },
     "execution_count": 46,
     "metadata": {},
     "output_type": "execute_result"
    }
   ],
   "source": [
    "net.params['W1'].shape"
   ]
  },
  {
   "cell_type": "code",
   "execution_count": 47,
   "metadata": {},
   "outputs": [
    {
     "data": {
      "text/plain": [
       "(100,)"
      ]
     },
     "execution_count": 47,
     "metadata": {},
     "output_type": "execute_result"
    }
   ],
   "source": [
    "net.params['b1'].shape"
   ]
  },
  {
   "cell_type": "code",
   "execution_count": 48,
   "metadata": {},
   "outputs": [
    {
     "data": {
      "text/plain": [
       "(100, 10)"
      ]
     },
     "execution_count": 48,
     "metadata": {},
     "output_type": "execute_result"
    }
   ],
   "source": [
    "net.params['W2'].shape"
   ]
  },
  {
   "cell_type": "code",
   "execution_count": 49,
   "metadata": {},
   "outputs": [
    {
     "data": {
      "text/plain": [
       "(10,)"
      ]
     },
     "execution_count": 49,
     "metadata": {},
     "output_type": "execute_result"
    }
   ],
   "source": [
    "net.params['b2'].shape"
   ]
  },
  {
   "cell_type": "code",
   "execution_count": 50,
   "metadata": {},
   "outputs": [
    {
     "name": "stdout",
     "output_type": "stream",
     "text": [
      "[[0.10562281 0.09659765 0.10478001 0.0965607  0.10272707 0.09572514\n",
      "  0.09810101 0.09945621 0.10260376 0.09782564]\n",
      " [0.10562502 0.09637937 0.10489041 0.09650149 0.10265071 0.0959788\n",
      "  0.09783629 0.09974324 0.10253365 0.09786101]\n",
      " [0.10563856 0.09611897 0.10493491 0.09627536 0.10256337 0.09586586\n",
      "  0.09816335 0.09974283 0.10310296 0.09759383]\n",
      " [0.10547379 0.09642972 0.10471104 0.09627554 0.10259838 0.09613849\n",
      "  0.09788322 0.0995806  0.10285497 0.09805425]\n",
      " [0.10571653 0.09663774 0.10444016 0.09668695 0.10245336 0.09595454\n",
      "  0.09800746 0.09963347 0.10267107 0.09779872]\n",
      " [0.10547714 0.09675664 0.10457663 0.09619512 0.10318457 0.09601052\n",
      "  0.09777505 0.09970967 0.10263936 0.0976753 ]\n",
      " [0.10568175 0.09651834 0.1044194  0.09664998 0.10269626 0.09568153\n",
      "  0.09808915 0.09984875 0.10244239 0.09797246]\n",
      " [0.10571044 0.09670449 0.10444689 0.09606721 0.10278099 0.0960174\n",
      "  0.09785676 0.09955457 0.1027788  0.09808245]\n",
      " [0.10542723 0.09655147 0.10445099 0.09657988 0.10316751 0.09556798\n",
      "  0.09770199 0.09962393 0.10266555 0.09826348]\n",
      " [0.10538958 0.09664921 0.10440998 0.09625142 0.10302583 0.09587376\n",
      "  0.09777824 0.09993671 0.10252312 0.09816216]\n",
      " [0.10536832 0.09632166 0.10469839 0.09660988 0.10253313 0.09549462\n",
      "  0.09808253 0.09998971 0.10308679 0.09781497]\n",
      " [0.10589479 0.09663016 0.10420418 0.09617541 0.10303661 0.0958024\n",
      "  0.09777589 0.09960307 0.10254418 0.0983333 ]\n",
      " [0.10546906 0.09658544 0.1047426  0.09636442 0.1030079  0.0955809\n",
      "  0.09791103 0.09997958 0.10263491 0.09772417]\n",
      " [0.10545608 0.0962842  0.10439498 0.09632396 0.10300533 0.09581697\n",
      "  0.09801764 0.09986549 0.10239538 0.09843996]\n",
      " [0.10529481 0.09651223 0.10507069 0.09609303 0.10310019 0.09583103\n",
      "  0.09797169 0.09964651 0.10258968 0.09789014]\n",
      " [0.10548797 0.09643572 0.10487591 0.09625457 0.10280269 0.09592814\n",
      "  0.0977343  0.09962723 0.10301298 0.09784049]\n",
      " [0.10560058 0.09646068 0.10462569 0.09645382 0.10294909 0.09573312\n",
      "  0.0980498  0.09973487 0.10261229 0.09778005]\n",
      " [0.10574935 0.09671007 0.10456472 0.09631108 0.10262056 0.09601706\n",
      "  0.09793431 0.0997852  0.1023117  0.09799596]\n",
      " [0.10506516 0.09674305 0.10468254 0.09672421 0.10273891 0.09589352\n",
      "  0.09775148 0.0999885  0.10239189 0.09802073]\n",
      " [0.10563509 0.09658443 0.10444328 0.09623973 0.10270032 0.09630648\n",
      "  0.09743034 0.09992198 0.10265817 0.09808018]\n",
      " [0.1055884  0.09645418 0.10505694 0.09628453 0.10282635 0.09618576\n",
      "  0.09791356 0.09926682 0.1026703  0.09775314]\n",
      " [0.10543048 0.09661414 0.1045826  0.09612697 0.10279204 0.09609195\n",
      "  0.09800432 0.0995199  0.10288518 0.09795242]\n",
      " [0.10557122 0.09626122 0.10474989 0.09674822 0.10298588 0.09589327\n",
      "  0.09789503 0.09960465 0.10241928 0.09787135]\n",
      " [0.10525118 0.09646035 0.1046285  0.09650518 0.10284239 0.09613253\n",
      "  0.09785779 0.09995819 0.1023888  0.09797508]\n",
      " [0.10536961 0.09644331 0.10470347 0.09669713 0.10244802 0.09594446\n",
      "  0.09787931 0.09957029 0.10278833 0.09815606]\n",
      " [0.10550688 0.09666928 0.10454748 0.09627312 0.10278038 0.09598001\n",
      "  0.0979507  0.09973862 0.10258472 0.0979688 ]\n",
      " [0.10591447 0.09624466 0.1048086  0.09610361 0.10269019 0.09588854\n",
      "  0.0979     0.09958308 0.10279111 0.09807572]\n",
      " [0.10537232 0.09677506 0.10476963 0.09609373 0.10270766 0.09604943\n",
      "  0.09787254 0.09989697 0.10252267 0.09793998]\n",
      " [0.10555393 0.09645792 0.10470477 0.09642021 0.10252472 0.09607808\n",
      "  0.09777516 0.0996508  0.10284144 0.09799299]\n",
      " [0.1055317  0.09676938 0.10441544 0.0963313  0.10285689 0.09606949\n",
      "  0.09785623 0.09966753 0.1025656  0.09793645]\n",
      " [0.10562692 0.09630899 0.10482711 0.09632729 0.10280407 0.09571041\n",
      "  0.09778006 0.09978761 0.10282501 0.09800252]\n",
      " [0.10547989 0.09654142 0.10486786 0.09634155 0.10296681 0.09546244\n",
      "  0.09785836 0.09966457 0.10280859 0.09800852]\n",
      " [0.10586299 0.09646325 0.10470738 0.09637401 0.10274656 0.0958476\n",
      "  0.09803739 0.09960023 0.10244833 0.09791224]\n",
      " [0.10529194 0.09644933 0.10482854 0.09664223 0.10297959 0.09583191\n",
      "  0.0981345  0.09952483 0.10281345 0.09750367]\n",
      " [0.10551693 0.09647729 0.10458539 0.09620599 0.10251373 0.09605811\n",
      "  0.09795622 0.10009416 0.10284511 0.09774707]\n",
      " [0.10536066 0.09642533 0.10432064 0.0963423  0.10296803 0.09586621\n",
      "  0.09791925 0.09999688 0.10280959 0.09799111]\n",
      " [0.10552171 0.09655971 0.10465218 0.09661442 0.10243089 0.09566631\n",
      "  0.09791512 0.09966744 0.10310881 0.09786341]\n",
      " [0.10525126 0.09686908 0.10423617 0.09655369 0.10350851 0.09590367\n",
      "  0.09762551 0.09973995 0.10231594 0.09799622]\n",
      " [0.10544557 0.09637754 0.10438078 0.09599889 0.1030386  0.0957024\n",
      "  0.09813717 0.10021766 0.10251876 0.09818263]\n",
      " [0.105696   0.09636776 0.10498916 0.09598697 0.10247009 0.0958851\n",
      "  0.09767469 0.09980087 0.1029308  0.09819855]\n",
      " [0.10575858 0.09680219 0.10449071 0.09622949 0.10269374 0.09594875\n",
      "  0.09773222 0.09968555 0.10268691 0.09797187]\n",
      " [0.10496924 0.09642672 0.10491071 0.09659573 0.10268361 0.09577384\n",
      "  0.09793664 0.0999174  0.10271321 0.0980729 ]\n",
      " [0.10555605 0.0965405  0.104716   0.09625114 0.10239769 0.09589999\n",
      "  0.09784103 0.09979797 0.10257876 0.09842087]\n",
      " [0.10530612 0.09663059 0.10497961 0.09629437 0.10282538 0.09598893\n",
      "  0.09784025 0.09983269 0.10251034 0.09779172]\n",
      " [0.10565898 0.096516   0.10474536 0.09634185 0.10251182 0.09595144\n",
      "  0.09800256 0.09975144 0.10266028 0.09786027]\n",
      " [0.10525781 0.09686279 0.10443381 0.09632989 0.10297674 0.09574077\n",
      "  0.09792639 0.09988405 0.10263125 0.09795651]\n",
      " [0.10539905 0.0966797  0.10488689 0.09637463 0.10318289 0.09565236\n",
      "  0.09803591 0.09957495 0.1025816  0.09763201]\n",
      " [0.10557102 0.09638689 0.10471334 0.09638819 0.10307621 0.09595495\n",
      "  0.09768503 0.09983954 0.10248359 0.09790124]\n",
      " [0.10562388 0.0963745  0.10460072 0.09643199 0.1028995  0.09581248\n",
      "  0.09788999 0.09977446 0.10268991 0.09790259]\n",
      " [0.10560339 0.09660661 0.10510655 0.09641948 0.10270371 0.09575304\n",
      "  0.09759534 0.09976635 0.10273815 0.09770739]\n",
      " [0.10528978 0.09628635 0.10431634 0.09656979 0.10307358 0.096049\n",
      "  0.09778957 0.09977174 0.102729   0.09812484]\n",
      " [0.10573539 0.09657964 0.10434003 0.09659323 0.10276058 0.0957831\n",
      "  0.0982244  0.09929344 0.1025583  0.0981319 ]\n",
      " [0.10563211 0.0966535  0.10503984 0.09633294 0.10275381 0.09593726\n",
      "  0.09747371 0.09946748 0.10255515 0.09815421]\n",
      " [0.1055699  0.09666596 0.10496079 0.09619047 0.10265826 0.09581974\n",
      "  0.0978612  0.09961487 0.10271446 0.09794435]\n",
      " [0.10555821 0.09661058 0.10438132 0.0964838  0.10297631 0.09587171\n",
      "  0.09782893 0.09993048 0.10234913 0.09800953]\n",
      " [0.10543609 0.096603   0.10442727 0.09648099 0.10322131 0.09587656\n",
      "  0.09787513 0.09967234 0.10230035 0.09810696]\n",
      " [0.10559232 0.09658922 0.10498517 0.09637766 0.10289102 0.09580929\n",
      "  0.09772867 0.099612   0.10251969 0.09789496]\n",
      " [0.10542159 0.09662184 0.10411871 0.09635633 0.10300064 0.09566985\n",
      "  0.09791067 0.09976527 0.10289501 0.09824009]\n",
      " [0.10536274 0.09657652 0.10461585 0.09634668 0.10242316 0.09617947\n",
      "  0.09777268 0.10006201 0.10258961 0.09807129]\n",
      " [0.10543669 0.09651422 0.10480159 0.09641185 0.10292174 0.09563716\n",
      "  0.09772836 0.09971415 0.10269017 0.09814408]\n",
      " [0.10586827 0.09674983 0.10421878 0.09646858 0.10303164 0.0957261\n",
      "  0.09790975 0.099645   0.10228031 0.09810173]\n",
      " [0.10511984 0.09660094 0.10460008 0.09673246 0.10313345 0.0960598\n",
      "  0.09813851 0.0994654  0.1023533  0.09779623]\n",
      " [0.10575677 0.09661664 0.10470225 0.09644336 0.10226614 0.09603793\n",
      "  0.09785545 0.09940731 0.10271053 0.09820361]\n",
      " [0.1052491  0.09615992 0.10475111 0.09656105 0.10283076 0.09583028\n",
      "  0.09785566 0.09998508 0.10275773 0.09801933]\n",
      " [0.10524924 0.09656197 0.10478645 0.09636578 0.10273968 0.096089\n",
      "  0.09797756 0.09975065 0.10267289 0.09780679]\n",
      " [0.10552973 0.09670947 0.10419539 0.09680666 0.10294971 0.09593493\n",
      "  0.09771993 0.09954321 0.10222563 0.09838533]\n",
      " [0.10540791 0.09641894 0.10431917 0.09663172 0.10280744 0.09583875\n",
      "  0.09802867 0.09968415 0.10266077 0.09820247]\n",
      " [0.10599065 0.09666995 0.10465175 0.09578076 0.10307923 0.09622153\n",
      "  0.09767842 0.09978779 0.10229283 0.0978471 ]\n",
      " [0.105084   0.09683577 0.10487136 0.09609056 0.10288983 0.09585664\n",
      "  0.09791528 0.09989815 0.10254309 0.09801534]\n",
      " [0.10562325 0.09627419 0.10460509 0.0965886  0.10236594 0.09608743\n",
      "  0.09792722 0.09979588 0.10278619 0.09794621]\n",
      " [0.10566947 0.09666101 0.10452462 0.09611011 0.10308336 0.09603318\n",
      "  0.09768934 0.09967417 0.1025476  0.09800714]\n",
      " [0.10541305 0.09646141 0.1047963  0.09633659 0.10244644 0.09602109\n",
      "  0.09813228 0.09991545 0.10256026 0.09791715]\n",
      " [0.10545435 0.09669491 0.10439683 0.09665253 0.10293979 0.09596122\n",
      "  0.09784904 0.09969225 0.10266889 0.09769019]\n",
      " [0.10552387 0.09668821 0.10448214 0.09666987 0.10254491 0.09596107\n",
      "  0.09804866 0.09963116 0.10264046 0.09780964]\n",
      " [0.10537044 0.09635563 0.10498201 0.09644112 0.10257389 0.09608027\n",
      "  0.09791456 0.09954747 0.10272647 0.09800814]\n",
      " [0.10503578 0.09660997 0.10502298 0.09625181 0.10273267 0.09574621\n",
      "  0.09793372 0.09995659 0.10274193 0.09796834]\n",
      " [0.10513293 0.09680125 0.1047366  0.09651122 0.10285993 0.09611743\n",
      "  0.09761036 0.0995497  0.10262966 0.09805091]\n",
      " [0.10538564 0.09667287 0.10462855 0.09612016 0.10293308 0.09586179\n",
      "  0.09801287 0.09963043 0.1026779  0.0980767 ]\n",
      " [0.10549973 0.09661434 0.10459448 0.09633561 0.10292801 0.09592566\n",
      "  0.09780441 0.09964949 0.1026893  0.09795896]\n",
      " [0.10529696 0.09641753 0.10427094 0.09660213 0.1030145  0.09611337\n",
      "  0.09803972 0.09989266 0.10249985 0.09785233]\n",
      " [0.1053158  0.09695295 0.10475715 0.09635154 0.10316678 0.0956574\n",
      "  0.09797305 0.09971619 0.10236228 0.09774686]\n",
      " [0.1057204  0.09654712 0.10474256 0.09629523 0.10258039 0.09611751\n",
      "  0.09770277 0.09963011 0.10272122 0.09794269]\n",
      " [0.10548923 0.09615437 0.10491491 0.09666977 0.1027495  0.09551569\n",
      "  0.09778705 0.09992223 0.10281541 0.09798184]\n",
      " [0.10548509 0.09640187 0.104693   0.09655398 0.10284818 0.09598227\n",
      "  0.09795941 0.09964599 0.1024251  0.09800512]\n",
      " [0.10528728 0.09646195 0.10477218 0.09602449 0.1027615  0.09597584\n",
      "  0.09780101 0.09987871 0.10308009 0.09795696]\n",
      " [0.10559586 0.09668928 0.10463042 0.09646761 0.10279594 0.09576625\n",
      "  0.09784744 0.09969007 0.10262565 0.09789149]\n",
      " [0.10537085 0.09667697 0.10473288 0.09655937 0.10282974 0.09610352\n",
      "  0.09764802 0.09952563 0.10229123 0.09826179]\n",
      " [0.10542405 0.09653012 0.1043904  0.09649744 0.1031989  0.09576695\n",
      "  0.09769175 0.09990688 0.10242644 0.09816706]\n",
      " [0.10538086 0.09665382 0.1045585  0.09644093 0.10300806 0.09598973\n",
      "  0.09764001 0.09964482 0.1028099  0.09787336]\n",
      " [0.10545967 0.09616965 0.10462894 0.09622542 0.1031973  0.09578178\n",
      "  0.09804185 0.09984575 0.10255485 0.09809479]\n",
      " [0.1053818  0.09666806 0.10476438 0.09662736 0.10262923 0.09579777\n",
      "  0.09807343 0.09982164 0.10247577 0.09776055]\n",
      " [0.10578335 0.0964683  0.10431735 0.0960706  0.10301359 0.09598535\n",
      "  0.09769739 0.09975596 0.10258374 0.09832437]\n",
      " [0.10560691 0.09657523 0.10420974 0.09664453 0.10294176 0.0959086\n",
      "  0.09789242 0.09964748 0.10212539 0.09844793]\n",
      " [0.10522624 0.09657732 0.10439483 0.09629629 0.10277046 0.09589593\n",
      "  0.09792142 0.09979361 0.10269984 0.09842406]\n",
      " [0.10532669 0.09635409 0.10474383 0.09648932 0.10256867 0.09594923\n",
      "  0.09782239 0.09964706 0.10301932 0.09807941]\n",
      " [0.10571929 0.09627328 0.10432388 0.09644798 0.10303622 0.09612048\n",
      "  0.09754518 0.09947005 0.10275749 0.09830615]\n",
      " [0.10544636 0.09654632 0.10487522 0.09627231 0.10318549 0.09599047\n",
      "  0.09779369 0.09954607 0.10249958 0.0978445 ]\n",
      " [0.10527428 0.09657825 0.10496422 0.09623007 0.10266724 0.09605105\n",
      "  0.09770149 0.09972216 0.10275372 0.09805753]\n",
      " [0.10536751 0.09669624 0.10481752 0.09601875 0.1027591  0.09612784\n",
      "  0.09785058 0.09983985 0.10264364 0.09787896]\n",
      " [0.10556869 0.09637226 0.10467307 0.09674092 0.10301055 0.09577546\n",
      "  0.09790728 0.09944273 0.1026941  0.09781495]]\n"
     ]
    }
   ],
   "source": [
    "#前向处理\n",
    "x = np.random.rand(100, 784)    #伪输入数据（100笔）\n",
    "y = net.predict(x)\n",
    "print(y)"
   ]
  },
  {
   "cell_type": "code",
   "execution_count": 51,
   "metadata": {},
   "outputs": [
    {
     "name": "stdout",
     "output_type": "stream",
     "text": [
      "[[6.90064213e-01 2.12967013e-02 4.61167567e-01 9.30480901e-02\n",
      "  7.32770944e-01 2.55507400e-01 4.41781804e-01 7.52560964e-01\n",
      "  5.84672635e-01 5.17932381e-02]\n",
      " [1.30205361e-01 2.76121106e-01 6.21661585e-01 4.86155413e-02\n",
      "  6.15904197e-01 3.75084709e-01 8.12251414e-01 7.70957774e-02\n",
      "  8.52525582e-01 3.40784594e-01]\n",
      " [6.95926553e-01 7.35118387e-01 5.78845690e-04 5.53851346e-01\n",
      "  7.87916724e-02 3.35291808e-01 3.43699053e-01 1.69019195e-02\n",
      "  1.64365723e-01 5.06999601e-01]\n",
      " [1.28408140e-01 3.99361026e-01 4.83221933e-01 3.94062259e-01\n",
      "  1.39769481e-02 6.84539310e-01 3.53665024e-01 4.26430189e-01\n",
      "  9.69467858e-01 9.40326042e-01]\n",
      " [2.15488372e-01 5.78361703e-01 5.73575445e-01 1.19363819e-01\n",
      "  4.16505087e-01 1.87295319e-01 1.60350538e-01 3.94117611e-01\n",
      "  1.71745429e-02 5.50575460e-01]\n",
      " [2.34018202e-01 5.56091226e-02 5.24019361e-01 1.98245518e-01\n",
      "  5.51500686e-01 8.92620019e-01 1.23649722e-01 1.32903145e-01\n",
      "  8.84571312e-01 9.30345004e-01]\n",
      " [3.39457366e-01 8.56154095e-01 3.12515301e-01 7.37883652e-01\n",
      "  3.67981374e-01 2.33107018e-01 4.00013842e-01 1.84650949e-01\n",
      "  2.53079812e-02 6.71715826e-01]\n",
      " [8.57626029e-01 1.81179264e-01 9.60075396e-01 7.50900769e-01\n",
      "  6.53942008e-01 3.33073570e-02 2.46574380e-01 9.54126110e-02\n",
      "  2.58173518e-03 1.43792770e-01]\n",
      " [4.89827893e-01 8.43088994e-01 5.07853135e-01 8.04680502e-01\n",
      "  6.82949258e-01 5.73000184e-01 4.77694676e-01 7.09891866e-01\n",
      "  4.89294720e-01 9.74992917e-01]\n",
      " [9.68562984e-01 9.78268026e-01 9.30992851e-01 6.86259802e-01\n",
      "  3.93729199e-01 3.39312466e-01 7.03778965e-01 7.60829167e-01\n",
      "  5.58311052e-01 6.28571759e-01]\n",
      " [1.96979696e-01 6.73430192e-01 2.84715896e-01 8.25873909e-02\n",
      "  1.45701066e-01 2.70415463e-01 3.05833823e-01 9.92601991e-01\n",
      "  3.29170178e-01 2.57354277e-01]\n",
      " [9.94889125e-01 8.56803947e-01 4.15220155e-01 1.64970757e-01\n",
      "  4.60108767e-02 5.60665082e-01 6.30756355e-01 9.58702459e-01\n",
      "  2.98732345e-01 2.13027133e-01]\n",
      " [9.40685552e-01 3.16635373e-01 6.81293456e-01 1.16148163e-01\n",
      "  2.10486444e-02 6.98135100e-01 1.24172051e-01 6.44098877e-01\n",
      "  7.65141681e-01 6.58671645e-01]\n",
      " [6.99825196e-01 7.12692315e-01 5.61567244e-01 7.84905888e-01\n",
      "  8.10541781e-01 1.32847904e-01 1.12760189e-01 9.33508935e-01\n",
      "  2.15373491e-01 9.46291399e-01]\n",
      " [4.85529045e-01 7.54425653e-01 9.57072592e-01 9.74255218e-01\n",
      "  2.76952358e-01 2.49379782e-01 6.50515511e-01 9.44381261e-01\n",
      "  8.27703056e-01 3.50233909e-01]\n",
      " [2.74049914e-01 9.64641439e-01 2.10411406e-01 6.60711864e-01\n",
      "  2.64330680e-01 8.10889352e-01 7.87180444e-01 7.19002297e-01\n",
      "  4.92469201e-01 1.55555269e-01]\n",
      " [6.89497697e-01 7.33074986e-01 5.85986335e-01 3.48698402e-01\n",
      "  2.90669924e-01 2.74927034e-01 7.82399240e-01 9.00232597e-01\n",
      "  8.48726864e-01 3.88860581e-01]\n",
      " [4.31891569e-01 8.16724846e-01 8.73309467e-01 8.58333214e-02\n",
      "  1.03848609e-01 5.72306144e-01 8.88258716e-01 5.73927415e-02\n",
      "  8.53412724e-01 5.45290018e-01]\n",
      " [8.27680276e-01 5.16182408e-01 1.50460392e-01 9.49962403e-01\n",
      "  3.10142304e-01 5.19950624e-01 9.56536529e-01 8.29476775e-01\n",
      "  2.03407335e-01 1.16785928e-01]\n",
      " [9.89290452e-01 9.07461056e-01 1.00517601e-01 7.45602309e-01\n",
      "  6.99448144e-01 3.97676922e-01 7.29217493e-01 6.85514630e-01\n",
      "  1.24282489e-01 1.67712580e-01]\n",
      " [5.96487611e-01 5.94080573e-01 3.81371986e-01 5.70870023e-01\n",
      "  1.36306590e-01 2.64876807e-02 5.00844122e-01 3.12079511e-02\n",
      "  9.58149964e-02 2.31571733e-01]\n",
      " [3.47180731e-02 7.69300017e-01 1.03343852e-01 5.55056345e-01\n",
      "  5.12724137e-01 5.73788551e-01 5.44188892e-01 7.43056664e-01\n",
      "  5.50697274e-01 3.85207859e-01]\n",
      " [2.49194861e-01 6.81163114e-02 9.56039975e-01 9.21934740e-02\n",
      "  3.46655053e-01 7.93649883e-01 7.00058394e-01 9.65756148e-01\n",
      "  8.20430412e-01 7.24348448e-01]\n",
      " [3.29959195e-01 7.17495241e-01 5.31425439e-01 8.36796374e-01\n",
      "  3.42039259e-01 2.74616813e-01 2.71076289e-01 4.96757186e-01\n",
      "  8.87092932e-01 8.62798598e-01]\n",
      " [4.76684937e-01 4.81224165e-01 3.99459797e-01 3.79422992e-01\n",
      "  8.68418631e-02 2.64932454e-01 2.60744115e-01 1.15048160e-02\n",
      "  6.58548026e-01 6.56468612e-01]\n",
      " [4.94574003e-02 8.10491205e-01 9.96166487e-01 1.86118900e-02\n",
      "  3.95520650e-01 4.84323088e-01 2.21070964e-01 6.37568113e-01\n",
      "  7.19326325e-01 5.20376457e-01]\n",
      " [6.63077828e-01 3.88225221e-01 2.54677573e-01 8.69077296e-01\n",
      "  6.55756425e-03 5.37377643e-01 8.20710751e-01 4.90420642e-01\n",
      "  5.58533446e-01 2.85108488e-01]\n",
      " [9.93396585e-01 8.65012042e-01 7.99026908e-01 2.34438600e-01\n",
      "  9.96040059e-01 2.53828859e-01 9.06361540e-01 9.96102456e-01\n",
      "  7.95232083e-01 4.76593667e-02]\n",
      " [1.33384181e-01 8.71011971e-01 6.06942774e-01 4.16894582e-01\n",
      "  9.13658713e-01 1.31470375e-01 5.45813592e-01 7.69532800e-01\n",
      "  5.22379503e-01 3.98642696e-01]\n",
      " [9.25632688e-01 6.92417361e-02 3.15749879e-01 8.03377734e-01\n",
      "  1.96307431e-01 7.44953402e-02 7.38170735e-01 7.09301374e-02\n",
      "  3.00947562e-01 1.43914879e-01]\n",
      " [8.01475972e-01 3.22448763e-01 8.22662175e-01 2.95392822e-01\n",
      "  7.71327933e-01 5.07968021e-01 6.28919623e-01 5.03544669e-02\n",
      "  8.73515985e-01 6.77534768e-01]\n",
      " [8.31609850e-01 3.08728695e-01 4.04996141e-02 8.26119154e-01\n",
      "  1.76361102e-02 4.68095459e-01 5.75360237e-01 7.73036181e-02\n",
      "  3.36032957e-01 9.18740254e-01]\n",
      " [8.34195864e-01 7.35627148e-01 9.81667430e-01 2.05343620e-02\n",
      "  4.46715294e-01 5.34562794e-01 7.67564225e-02 4.92987248e-01\n",
      "  5.79145987e-01 1.56914262e-01]\n",
      " [6.41448878e-01 9.75569084e-01 4.27565006e-01 7.98740780e-01\n",
      "  5.28472607e-01 5.31935249e-02 4.44512414e-01 2.19419761e-01\n",
      "  3.95683275e-01 5.12211641e-02]\n",
      " [3.88544657e-01 8.96924858e-01 6.37306986e-01 3.49293254e-01\n",
      "  9.78144407e-01 3.88839205e-02 5.55252364e-01 1.63504336e-01\n",
      "  9.66619982e-01 1.90708833e-01]\n",
      " [8.67923743e-01 2.71289208e-01 8.34647325e-01 3.39823123e-01\n",
      "  7.69141945e-01 9.90422893e-01 4.04253817e-01 1.86355758e-01\n",
      "  6.35305471e-01 5.17554230e-01]\n",
      " [2.98512559e-01 7.77063655e-01 9.58865633e-01 7.78990026e-01\n",
      "  3.11706779e-01 4.53669419e-01 4.11130383e-01 9.38466350e-01\n",
      "  1.05681324e-01 5.49657519e-01]\n",
      " [5.75860481e-01 7.03563073e-01 6.72801158e-01 5.79122921e-01\n",
      "  3.04857980e-01 4.45376057e-02 9.91556765e-01 9.86061110e-01\n",
      "  9.63984659e-01 6.59401291e-01]\n",
      " [2.91795606e-01 6.44294455e-01 6.01828066e-01 6.60305698e-04\n",
      "  3.12222250e-01 7.42137112e-01 7.30301352e-01 9.24383538e-01\n",
      "  6.56558726e-01 3.04668490e-01]\n",
      " [3.98561201e-01 2.52724527e-01 1.37137179e-01 2.58775845e-01\n",
      "  3.67838132e-01 1.84255564e-01 5.54381054e-01 6.35415726e-02\n",
      "  9.44595340e-01 9.59644078e-01]\n",
      " [6.61939925e-01 7.38206196e-01 9.59533286e-01 5.06741378e-01\n",
      "  2.75273697e-01 2.06575770e-01 2.99516292e-02 4.80962372e-01\n",
      "  7.97595852e-01 9.17154948e-01]\n",
      " [2.29253556e-01 8.53581310e-01 2.42569490e-01 7.93081039e-01\n",
      "  4.87017543e-01 5.54001406e-01 3.34316380e-01 8.37439169e-01\n",
      "  1.73656974e-01 7.66067596e-01]\n",
      " [9.14993952e-01 5.79677644e-01 2.52736231e-01 6.44801499e-01\n",
      "  2.59472313e-01 9.36868998e-01 7.17069594e-01 2.96461074e-01\n",
      "  7.97544794e-01 5.84819575e-01]\n",
      " [7.68109565e-01 9.68834716e-02 9.62207750e-01 7.71862735e-01\n",
      "  8.10604745e-01 9.97290616e-01 8.04391152e-02 3.39846092e-01\n",
      "  6.90576012e-02 4.49932141e-01]\n",
      " [6.68826063e-01 7.26785229e-01 7.36979565e-01 7.61141514e-02\n",
      "  1.45565584e-02 7.08422456e-01 3.59680311e-01 7.13992019e-01\n",
      "  9.45795848e-01 1.78752507e-01]\n",
      " [9.68951532e-01 7.92373220e-01 9.37955310e-01 7.04667229e-01\n",
      "  3.38643817e-02 3.35680412e-01 2.60461642e-01 5.30928543e-01\n",
      "  7.63793385e-01 5.19726327e-02]\n",
      " [3.26578464e-01 8.55456667e-01 4.83298459e-01 7.32325993e-01\n",
      "  5.95686441e-01 3.21453864e-01 2.83977130e-01 5.15742217e-01\n",
      "  5.25713811e-01 7.05495014e-02]\n",
      " [4.75097342e-01 9.66825283e-01 1.04763785e-01 7.17164963e-01\n",
      "  1.49662410e-01 8.37315658e-01 9.51151417e-02 3.03531892e-01\n",
      "  2.21967865e-01 2.57987875e-01]\n",
      " [2.26651516e-01 3.03987943e-01 5.55994284e-01 1.05727389e-01\n",
      "  2.75024556e-01 9.89920011e-01 7.37545187e-01 4.12356752e-01\n",
      "  9.93609070e-01 6.66395942e-01]\n",
      " [7.99785946e-01 8.38729169e-01 5.73730219e-01 6.02134432e-01\n",
      "  6.88955551e-01 6.18235087e-01 1.31001441e-01 5.98019899e-01\n",
      "  3.65765622e-01 6.13660800e-01]\n",
      " [1.78971482e-01 1.47403064e-01 4.51180357e-01 2.31486405e-01\n",
      "  1.79516997e-01 6.34800717e-01 5.44836787e-01 7.21244666e-01\n",
      "  6.69977915e-01 8.55387130e-02]\n",
      " [4.92445979e-01 5.68783323e-01 1.69996675e-01 3.52900273e-01\n",
      "  7.30831413e-01 8.58438470e-01 7.70279558e-01 4.33915461e-01\n",
      "  5.06620919e-01 8.84544147e-01]\n",
      " [4.00258531e-01 8.14424746e-01 1.46459701e-01 1.96954859e-01\n",
      "  4.74107089e-01 8.67812033e-01 9.27132104e-01 2.83351690e-01\n",
      "  3.73726567e-01 7.01621336e-01]\n",
      " [4.00375562e-01 7.03193617e-01 8.55873959e-01 2.80976291e-01\n",
      "  3.53293484e-01 5.65683233e-01 4.09969924e-03 3.62792426e-01\n",
      "  5.38521743e-01 7.23948108e-01]\n",
      " [6.80887504e-01 5.84939509e-01 8.13957894e-01 5.05563991e-01\n",
      "  7.54625636e-01 2.56737939e-01 9.47157634e-01 8.60488439e-02\n",
      "  2.90199911e-01 9.86450989e-01]\n",
      " [3.74358739e-01 4.76201756e-01 3.11065563e-01 8.12339731e-02\n",
      "  3.93266922e-01 7.14432929e-01 6.35162058e-01 7.87011259e-01\n",
      "  5.27036998e-01 9.56076014e-02]\n",
      " [7.72034796e-01 9.91687415e-01 3.25824004e-02 1.63616751e-01\n",
      "  5.71467403e-01 9.13273178e-01 3.08783990e-01 6.55731130e-02\n",
      "  5.38283182e-01 6.66834385e-01]\n",
      " [6.96048196e-01 6.72460993e-01 8.55711179e-01 8.05146174e-01\n",
      "  4.80811825e-01 9.94850120e-01 3.63691590e-01 7.53123383e-01\n",
      "  6.20393318e-01 4.81524674e-01]\n",
      " [4.96807880e-01 6.62771117e-01 5.65413228e-01 2.30797647e-01\n",
      "  7.86394500e-01 7.48438034e-01 1.07202842e-01 7.53542933e-01\n",
      "  8.94264593e-01 4.27804383e-01]\n",
      " [4.09444052e-01 7.33340943e-01 6.70581100e-01 4.47002537e-01\n",
      "  7.73282270e-01 1.35002202e-01 6.26103779e-01 3.92508405e-01\n",
      "  7.18721369e-01 3.93176854e-01]\n",
      " [2.92916273e-01 6.29205753e-01 2.35448545e-01 2.48998479e-01\n",
      "  9.93335156e-03 1.93344802e-01 6.94956104e-01 6.34408463e-01\n",
      "  4.40326918e-02 7.80325450e-01]\n",
      " [7.11647153e-02 9.29900465e-01 3.45003891e-01 7.51033936e-01\n",
      "  3.87940232e-01 9.86014061e-01 5.65371336e-01 2.79834209e-02\n",
      "  6.91659104e-01 2.72886422e-01]\n",
      " [9.52291368e-01 4.21592767e-01 3.04806386e-01 1.81062526e-01\n",
      "  7.91825992e-01 2.02646516e-01 9.80813802e-01 5.32325693e-02\n",
      "  6.55305989e-01 3.14126497e-02]\n",
      " [4.62400345e-01 9.35600112e-02 6.69335655e-01 1.67545269e-01\n",
      "  3.43775658e-01 8.93408167e-01 6.53804567e-01 5.62524588e-01\n",
      "  8.61120606e-01 8.38533202e-01]\n",
      " [4.12713140e-01 6.51796245e-01 7.28331689e-01 2.93263758e-01\n",
      "  2.19289908e-01 5.73746301e-01 7.17662906e-01 3.46662373e-01\n",
      "  5.58924710e-01 2.00133824e-01]\n",
      " [8.94809842e-01 9.62362677e-02 1.47703472e-01 8.14587210e-01\n",
      "  1.17034428e-01 2.54627277e-01 3.44066706e-01 4.13513751e-02\n",
      "  2.27507778e-01 1.73027035e-01]\n",
      " [6.71782299e-01 7.88330449e-01 2.68262836e-01 5.92865523e-01\n",
      "  9.75893734e-01 9.86802260e-01 1.43127240e-01 8.14223342e-01\n",
      "  1.51081294e-01 3.74353873e-01]\n",
      " [8.23446302e-01 6.25949737e-01 5.15118096e-01 7.08458645e-01\n",
      "  6.37140973e-02 5.66324417e-01 1.99247621e-01 3.07304562e-01\n",
      "  6.87051413e-01 9.55003846e-01]\n",
      " [6.74006123e-01 9.56682360e-01 1.33616080e-01 2.50633005e-01\n",
      "  9.22280839e-01 4.81903399e-01 5.55065355e-01 8.27516316e-01\n",
      "  2.07477009e-01 4.93788137e-01]\n",
      " [2.82364108e-01 4.18784196e-01 7.90664979e-01 6.58036816e-01\n",
      "  9.51976860e-01 3.99032250e-01 6.06703509e-01 5.80011619e-01\n",
      "  5.26530912e-01 3.42769801e-01]\n",
      " [6.70916141e-01 7.01052941e-01 9.87620438e-01 7.56218226e-01\n",
      "  8.15716837e-02 5.27858319e-01 4.74946170e-01 7.11469093e-01\n",
      "  6.68344440e-01 1.51734433e-01]\n",
      " [6.25305708e-01 2.92130643e-01 6.35764814e-01 7.08243647e-02\n",
      "  3.79650544e-01 9.00737771e-01 6.79777089e-01 8.98259312e-01\n",
      "  4.07441560e-01 9.51568859e-02]\n",
      " [6.43802669e-01 5.95351583e-01 5.78796289e-01 1.47283374e-01\n",
      "  4.71768487e-01 7.85727323e-01 3.42478269e-01 7.14112313e-01\n",
      "  2.42394685e-01 2.96231982e-01]\n",
      " [8.87872230e-01 5.41273935e-01 6.45582225e-01 6.39926023e-01\n",
      "  4.07210035e-02 4.80388523e-01 3.82139342e-01 8.41050778e-01\n",
      "  1.30635037e-01 3.08539735e-01]\n",
      " [1.86047041e-01 9.19742042e-02 4.37822164e-02 6.07896937e-01\n",
      "  1.31577941e-01 1.70356999e-01 1.45507404e-01 6.49248137e-01\n",
      "  9.89712953e-01 1.36014262e-01]\n",
      " [3.81721713e-01 7.01781441e-01 9.67462238e-01 7.58731814e-01\n",
      "  9.95503984e-01 3.94796457e-01 2.91514741e-01 7.30686819e-01\n",
      "  6.78332160e-01 8.51469930e-01]\n",
      " [9.30713120e-01 1.40541184e-01 8.63576156e-01 3.14235811e-01\n",
      "  4.29141406e-01 6.76494498e-01 5.06123518e-01 7.39494262e-01\n",
      "  8.85358590e-01 2.51631613e-01]\n",
      " [8.48641728e-02 2.84440889e-01 5.60209250e-01 8.01932953e-01\n",
      "  2.49197709e-01 2.31330471e-01 4.41992380e-01 1.26535786e-01\n",
      "  1.09901842e-02 1.34522282e-01]\n",
      " [1.24623965e-01 4.96657672e-01 9.86974620e-01 3.89966732e-02\n",
      "  6.17809291e-01 8.13018450e-01 2.63712398e-01 9.28474816e-01\n",
      "  5.51614631e-01 9.02948920e-01]\n",
      " [1.96978138e-02 4.09167736e-02 8.06303996e-02 9.95384315e-01\n",
      "  8.66950399e-01 3.43136632e-01 2.46487789e-01 9.50108567e-01\n",
      "  1.35176281e-01 5.92968301e-01]\n",
      " [8.64144126e-01 1.98866817e-01 2.58614136e-01 6.46506801e-01\n",
      "  1.37729025e-01 9.59464183e-01 1.49998347e-01 6.55524223e-01\n",
      "  4.73227632e-01 9.38988637e-01]\n",
      " [5.41444569e-01 9.60901108e-01 5.50134528e-01 4.77053538e-01\n",
      "  3.22537256e-01 5.69768076e-02 6.14517689e-01 2.50336269e-01\n",
      "  8.92658012e-02 6.35853928e-01]\n",
      " [8.15370038e-01 6.68550558e-01 5.28246459e-01 6.46103321e-01\n",
      "  8.05380487e-01 7.09604942e-01 4.92489131e-01 8.86900987e-02\n",
      "  6.61850044e-01 2.67022378e-01]\n",
      " [1.81995601e-01 1.53488324e-02 6.57687313e-01 3.46677431e-01\n",
      "  2.71576684e-01 3.72078174e-01 1.40752674e-01 2.18450580e-02\n",
      "  6.82622809e-01 2.36562888e-02]\n",
      " [3.79655704e-01 9.80140535e-01 4.77926932e-01 6.26508854e-01\n",
      "  9.65898499e-01 6.25535426e-01 5.30692086e-01 7.69580947e-01\n",
      "  1.15873449e-01 4.82814953e-01]\n",
      " [8.24582295e-01 2.41673624e-01 3.70649065e-01 7.40507009e-01\n",
      "  7.94897202e-01 7.04196131e-01 7.67934002e-01 1.95677308e-01\n",
      "  6.89772016e-01 3.23324582e-01]\n",
      " [8.73989965e-01 8.62734655e-01 2.29084614e-01 1.94467540e-01\n",
      "  5.52397188e-01 1.70600321e-01 5.66521976e-02 5.17420651e-01\n",
      "  6.43043323e-01 8.69493908e-01]\n",
      " [4.94425820e-01 5.57128357e-01 9.98764225e-01 9.78252895e-01\n",
      "  5.09345942e-01 4.86441334e-01 5.08437124e-02 8.70497360e-01\n",
      "  9.42412433e-01 2.15315917e-01]\n",
      " [1.43798924e-01 5.87782668e-01 4.10149495e-01 2.25266301e-01\n",
      "  9.98113062e-02 5.84647953e-01 7.43804438e-01 8.23246046e-01\n",
      "  3.76156019e-01 3.85778216e-01]\n",
      " [2.78735693e-01 6.52410616e-01 9.13999974e-01 8.53120348e-01\n",
      "  6.18284443e-01 6.31503083e-01 1.95296204e-01 5.68496660e-03\n",
      "  9.87519804e-01 7.09333566e-02]\n",
      " [3.89199703e-01 3.47984328e-01 6.70516567e-01 2.62523614e-01\n",
      "  4.64235970e-01 9.66714803e-03 5.16122625e-01 6.34330994e-01\n",
      "  1.46282954e-01 8.22727290e-01]\n",
      " [1.83065567e-02 6.15610721e-01 7.02425939e-01 7.23301219e-01\n",
      "  9.11802388e-01 2.87270024e-01 3.91719196e-02 2.08701533e-03\n",
      "  7.29417551e-01 2.77965793e-01]\n",
      " [8.96077525e-01 6.08435654e-01 3.56534731e-01 7.07695923e-01\n",
      "  9.19931924e-01 8.02085972e-01 7.44359112e-01 7.71778749e-01\n",
      "  5.82904210e-01 6.31341344e-01]\n",
      " [4.94748767e-02 3.84422798e-01 6.76808132e-01 3.92810870e-01\n",
      "  5.25027701e-02 3.61139731e-01 1.84305830e-01 2.41926068e-01\n",
      "  3.98507574e-01 6.46058047e-01]\n",
      " [1.58101779e-01 5.58254100e-01 2.67727462e-01 4.57425966e-01\n",
      "  1.98837031e-01 8.31195850e-01 2.68719749e-01 1.32973000e-01\n",
      "  8.04805372e-01 3.48481948e-01]\n",
      " [3.67078571e-01 8.97774072e-01 7.98786364e-01 2.41318907e-01\n",
      "  7.29469105e-01 4.41649614e-01 6.80584559e-02 8.02244885e-01\n",
      "  9.94090473e-01 3.51141250e-01]\n",
      " [3.09951546e-01 2.00289187e-01 9.23746163e-01 6.61078546e-01\n",
      "  3.49750750e-01 3.84990353e-01 5.69364048e-01 1.41942717e-02\n",
      "  1.77674256e-01 1.15693571e-01]\n",
      " [6.74922472e-01 7.10932342e-01 9.47669375e-01 8.37380256e-01\n",
      "  7.02874778e-02 3.45177382e-02 1.34589130e-01 9.57003930e-01\n",
      "  7.68961881e-01 7.55139853e-01]\n",
      " [3.11443766e-01 4.97625903e-01 4.40862827e-01 3.83627047e-01\n",
      "  8.97486540e-02 3.36990928e-01 8.13045615e-01 1.29384527e-01\n",
      "  2.40980496e-01 6.28725380e-01]\n",
      " [2.64404162e-02 3.23361944e-01 8.58546438e-01 4.74488630e-02\n",
      "  1.69364885e-01 8.18605584e-01 3.63250324e-01 4.78183539e-01\n",
      "  1.65507056e-01 3.34182908e-01]]\n"
     ]
    }
   ],
   "source": [
    "#grads变量中保存了各个参数的梯度\n",
    "t = np.random.rand(100, 10)    #伪正解标签（100笔）\n",
    "print(t)"
   ]
  },
  {
   "cell_type": "code",
   "execution_count": 52,
   "metadata": {},
   "outputs": [],
   "source": [
    "# grads = net.numerical_gradient(x, t)    #计算梯度\n",
    "grads = net.gradient(x_batch, t_batch)    #高速版"
   ]
  },
  {
   "cell_type": "code",
   "execution_count": 53,
   "metadata": {},
   "outputs": [
    {
     "data": {
      "text/plain": [
       "(784, 100)"
      ]
     },
     "execution_count": 53,
     "metadata": {},
     "output_type": "execute_result"
    }
   ],
   "source": [
    "grads['W1'].shape"
   ]
  },
  {
   "cell_type": "code",
   "execution_count": 54,
   "metadata": {},
   "outputs": [
    {
     "data": {
      "text/plain": [
       "(100,)"
      ]
     },
     "execution_count": 54,
     "metadata": {},
     "output_type": "execute_result"
    }
   ],
   "source": [
    "grads['b1'].shape"
   ]
  },
  {
   "cell_type": "code",
   "execution_count": 55,
   "metadata": {},
   "outputs": [
    {
     "data": {
      "text/plain": [
       "(100, 10)"
      ]
     },
     "execution_count": 55,
     "metadata": {},
     "output_type": "execute_result"
    }
   ],
   "source": [
    "grads['W2'].shape"
   ]
  },
  {
   "cell_type": "code",
   "execution_count": 56,
   "metadata": {},
   "outputs": [
    {
     "data": {
      "text/plain": [
       "(10,)"
      ]
     },
     "execution_count": 56,
     "metadata": {},
     "output_type": "execute_result"
    }
   ],
   "source": [
    "grads['b2'].shape"
   ]
  },
  {
   "cell_type": "markdown",
   "metadata": {},
   "source": [
    "#### mini-batch的实现"
   ]
  },
  {
   "cell_type": "code",
   "execution_count": 57,
   "metadata": {},
   "outputs": [],
   "source": [
    "# 读入数据\n",
    "(x_train, t_train), (x_test, t_test) = load_mnist(normalize=True, one_hot_label=True)"
   ]
  },
  {
   "cell_type": "code",
   "execution_count": 58,
   "metadata": {},
   "outputs": [],
   "source": [
    "#超参数\n",
    "iters_num = 10000  # 适当设定循环的次数\n",
    "train_size = x_train.shape[0]\n",
    "batch_size = 100\n",
    "learning_rate = 0.1"
   ]
  },
  {
   "cell_type": "code",
   "execution_count": 59,
   "metadata": {},
   "outputs": [],
   "source": [
    "network = TwoLayerNet(input_size=784, hidden_size=50, output_size=10)"
   ]
  },
  {
   "cell_type": "code",
   "execution_count": 60,
   "metadata": {},
   "outputs": [],
   "source": [
    "train_loss_list = []\n",
    "train_acc_list = []\n",
    "test_acc_list = []"
   ]
  },
  {
   "cell_type": "code",
   "execution_count": 61,
   "metadata": {},
   "outputs": [],
   "source": [
    "iter_per_epoch = max(train_size / batch_size, 1)"
   ]
  },
  {
   "cell_type": "code",
   "execution_count": 62,
   "metadata": {},
   "outputs": [
    {
     "name": "stdout",
     "output_type": "stream",
     "text": [
      "train acc, test acc | 0.09863333333333334, 0.0958\n",
      "train acc, test acc | 0.7787833333333334, 0.784\n",
      "train acc, test acc | 0.8749333333333333, 0.8799\n",
      "train acc, test acc | 0.89805, 0.9002\n",
      "train acc, test acc | 0.90915, 0.9115\n",
      "train acc, test acc | 0.9160166666666667, 0.9184\n",
      "train acc, test acc | 0.9210333333333334, 0.9238\n",
      "train acc, test acc | 0.9248666666666666, 0.9273\n",
      "train acc, test acc | 0.92735, 0.9289\n",
      "train acc, test acc | 0.93135, 0.9338\n",
      "train acc, test acc | 0.9349, 0.9365\n",
      "train acc, test acc | 0.9378, 0.9371\n",
      "train acc, test acc | 0.9403, 0.9403\n",
      "train acc, test acc | 0.9422166666666667, 0.9402\n",
      "train acc, test acc | 0.9436, 0.9422\n",
      "train acc, test acc | 0.9454166666666667, 0.9441\n",
      "train acc, test acc | 0.94725, 0.945\n"
     ]
    }
   ],
   "source": [
    "for i in range(iters_num):\n",
    "    batch_mask = np.random.choice(train_size, batch_size)\n",
    "    x_batch = x_train[batch_mask]\n",
    "    t_batch = t_train[batch_mask]\n",
    "    \n",
    "    # 计算梯度\n",
    "    #grad = network.numerical_gradient(x_batch, t_batch)\n",
    "    grad = network.gradient(x_batch, t_batch)    \n",
    "    \n",
    "    # 更新参数\n",
    "    for key in ('W1', 'b1', 'W2', 'b2'):\n",
    "        network.params[key] -= learning_rate * grad[key]\n",
    "    \n",
    "    loss = network.loss(x_batch, t_batch)\n",
    "    train_loss_list.append(loss)\n",
    "    \n",
    "    if i % iter_per_epoch == 0:\n",
    "        train_acc = network.accuracy(x_train, t_train)\n",
    "        test_acc = network.accuracy(x_test, t_test)\n",
    "        train_acc_list.append(train_acc)\n",
    "        test_acc_list.append(test_acc)\n",
    "        print(\"train acc, test acc | \" + str(train_acc) + \", \" + str(test_acc))"
   ]
  },
  {
   "cell_type": "code",
   "execution_count": 63,
   "metadata": {},
   "outputs": [
    {
     "data": {
      "image/png": "[encoded data removed]",
      "text/plain": [
       "<Figure size 432x288 with 1 Axes>"
      ]
     },
     "metadata": {
      "needs_background": "light"
     },
     "output_type": "display_data"
    }
   ],
   "source": [
    "# 绘制图形\n",
    "markers = {'train': 'o', 'test': 's'}\n",
    "x = np.arange(len(train_acc_list))\n",
    "plt.plot(x, train_acc_list, label='train acc')\n",
    "plt.plot(x, test_acc_list, label='test acc', linestyle='--')\n",
    "plt.xlabel(\"epochs\")\n",
    "plt.ylabel(\"accuracy\")\n",
    "plt.ylim(0, 1.0)\n",
    "plt.legend(loc='lower right')\n",
    "plt.show()"
   ]
  },
  {
   "cell_type": "code",
   "execution_count": null,
   "metadata": {},
   "outputs": [],
   "source": []
  }
 ],
 "metadata": {
  "kernelspec": {
   "display_name": "Python 3",
   "language": "python",
   "name": "python3"
  },
  "language_info": {
   "codemirror_mode": {
    "name": "ipython",
    "version": 3
   },
   "file_extension": ".py",
   "mimetype": "text/x-python",
   "name": "python",
   "nbconvert_exporter": "python",
   "pygments_lexer": "ipython3",
   "version": "3.7.3"
  }
 },
 "nbformat": 4,
 "nbformat_minor": 2
}
